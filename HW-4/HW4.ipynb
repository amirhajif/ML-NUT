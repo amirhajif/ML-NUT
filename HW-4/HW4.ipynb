{
 "cells": [
  {
   "cell_type": "code",
   "execution_count": 1,
   "metadata": {},
   "outputs": [],
   "source": [
    "from sklearn.datasets import fetch_openml\n",
    "import numpy as np\n",
    "import ssl\n",
    "ssl._create_default_https_context = ssl._create_unverified_context\n",
    "\n",
    "mnist = fetch_openml('mnist_784', version=1)\n",
    "\n",
    "X = mnist.data  \n",
    "y = mnist.target \n",
    "\n",
    "X = X.to_numpy()\n",
    "y = y.to_numpy()\n",
    "\n",
    "X = X / 255.0 "
   ]
  },
  {
   "cell_type": "code",
   "execution_count": 2,
   "metadata": {},
   "outputs": [],
   "source": [
    "from sklearn.model_selection import train_test_split\n",
    "\n",
    "X_train, X_test, y_train, y_test = train_test_split(X, y, test_size=10000, train_size=60000, random_state=42)\n",
    "\n",
    "X_train = X_train.astype(np.float64)\n",
    "X_test = X_test.astype(np.float64)\n",
    "\n",
    "y_train = y_train.astype(np.int64)\n",
    "y_test = y_test.astype(np.int64)"
   ]
  },
  {
   "cell_type": "code",
   "execution_count": 3,
   "metadata": {},
   "outputs": [
    {
     "name": "stdout",
     "output_type": "stream",
     "text": [
      "Accuracy of Decision Tree Classifier: 87.42%\n"
     ]
    }
   ],
   "source": [
    "from sklearn.tree import DecisionTreeClassifier\n",
    "from sklearn.metrics import accuracy_score\n",
    "\n",
    "clf = DecisionTreeClassifier(random_state=42)\n",
    "\n",
    "clf.fit(X_train, y_train)\n",
    "\n",
    "y_pred = clf.predict(X_test)\n",
    "\n",
    "accuracy = accuracy_score(y_test, y_pred)\n",
    "print(f\"Accuracy of Decision Tree Classifier: {accuracy * 100:.2f}%\")"
   ]
  },
  {
   "cell_type": "code",
   "execution_count": 4,
   "metadata": {},
   "outputs": [],
   "source": [
    "from sklearn.utils import resample\n",
    "\n",
    "def train_decision_trees(X_train, y_train, n_trees=20, feature_fraction=0.7, data_fraction=0.5):\n",
    "    n_samples = X_train.shape[0]\n",
    "    n_features = X_train.shape[1]\n",
    "    feature_subset_size = int(n_features * feature_fraction)\n",
    "    data_subset_size = int(n_samples * data_fraction)\n",
    "    \n",
    "    trees = []\n",
    "    \n",
    "    for i in range(n_trees):\n",
    "        X_bootstrap, y_bootstrap = resample(X_train, y_train, replace=True, n_samples=data_subset_size)\n",
    "        \n",
    "        feature_indices = np.random.choice(range(n_features), size=feature_subset_size, replace=True)\n",
    "        \n",
    "        X_bootstrap = X_bootstrap[:, feature_indices]\n",
    "        \n",
    "        clf = DecisionTreeClassifier(random_state=i)\n",
    "        clf.fit(X_bootstrap, y_bootstrap)\n",
    "        \n",
    "        trees.append((clf, feature_indices))\n",
    "    \n",
    "    return trees\n",
    "\n",
    "\n",
    "trained_trees = train_decision_trees(X_train, y_train)\n"
   ]
  },
  {
   "cell_type": "code",
   "execution_count": 5,
   "metadata": {},
   "outputs": [],
   "source": [
    "def test_majority_voting(trees, X_test, y_test):\n",
    "    predictions = []\n",
    "    for clf, feature_indices in trees:\n",
    "        y_pred = clf.predict(X_test[:, feature_indices])\n",
    "        predictions.append(y_pred)\n",
    "    \n",
    "    predictions = np.array(predictions)  # Shape: (n_trees, n_samples)\n",
    "    y_final_pred = np.apply_along_axis(lambda x: np.bincount(x).argmax(), axis=0, arr=predictions)\n",
    "    \n",
    "    accuracy = accuracy_score(y_test, y_final_pred)\n",
    "    return accuracy\n",
    "\n",
    "def test_weighted_voting(trees, X_train, y_train, X_test, y_test):\n",
    "    predictions = []\n",
    "    weights = []\n",
    "\n",
    "    for clf, feature_indices in trees:\n",
    "        y_pred = clf.predict(X_test[:, feature_indices])\n",
    "        predictions.append(y_pred)\n",
    "        \n",
    "        X_train_subset = X_train[:, feature_indices]\n",
    "        y_train_pred = clf.predict(X_train_subset)\n",
    "        tree_accuracy = accuracy_score(y_train, y_train_pred)\n",
    "        weights.append(tree_accuracy)\n",
    "    \n",
    "    weights = np.array(weights)\n",
    "    weights /= np.sum(weights)\n",
    "    \n",
    "    predictions = np.array(predictions)\n",
    "    weighted_votes = np.zeros((predictions.shape[1], len(np.unique(y_test))))\n",
    "    for i, weight in enumerate(weights):\n",
    "        for j, pred in enumerate(predictions[i]):\n",
    "            weighted_votes[j, int(pred)] += weight\n",
    "    \n",
    "    y_final_pred = np.argmax(weighted_votes, axis=1)\n",
    "    \n",
    "    accuracy = accuracy_score(y_test, y_final_pred)\n",
    "    return accuracy\n"
   ]
  },
  {
   "cell_type": "code",
   "execution_count": 6,
   "metadata": {},
   "outputs": [
    {
     "name": "stdout",
     "output_type": "stream",
     "text": [
      "Accuracy with Majority Voting: 95.47%\n",
      "Accuracy with Weighted Voting: 95.47%\n"
     ]
    }
   ],
   "source": [
    "\n",
    "accuracy_majority = test_majority_voting(trained_trees, X_test, y_test)\n",
    "print(f\"Accuracy with Majority Voting: {accuracy_majority * 100:.2f}%\")\n",
    "\n",
    "accuracy_weighted = test_weighted_voting(trained_trees, X_train, y_train, X_test, y_test)\n",
    "print(f\"Accuracy with Weighted Voting: {accuracy_weighted * 100:.2f}%\")"
   ]
  },
  {
   "cell_type": "code",
   "execution_count": 7,
   "metadata": {},
   "outputs": [
    {
     "name": "stdout",
     "output_type": "stream",
     "text": [
      "Accuracy with RF: 95.28%\n"
     ]
    }
   ],
   "source": [
    "from sklearn.ensemble import RandomForestClassifier\n",
    "\n",
    "rf = RandomForestClassifier(\n",
    "        n_estimators=20,        \n",
    "        max_features=0.7,\n",
    "        max_samples=0.5,  \n",
    "        bootstrap=True,             \n",
    "        random_state=42             \n",
    "    )\n",
    "\n",
    "rf.fit(X_train, y_train)\n",
    "y_pred = rf.predict(X_test)\n",
    "accuracy = accuracy_score(y_test, y_pred)\n",
    "print(f\"Accuracy with RF: {accuracy * 100:.2f}%\")\n"
   ]
  },
  {
   "cell_type": "code",
   "execution_count": 19,
   "metadata": {},
   "outputs": [
    {
     "name": "stdout",
     "output_type": "stream",
     "text": [
      "Accuracy: 82.6800%\n"
     ]
    }
   ],
   "source": [
    "import numpy as np\n",
    "from sklearn.tree import DecisionTreeClassifier\n",
    "from sklearn.preprocessing import StandardScaler\n",
    "\n",
    "def fit_adaboost(X, y, n_estimators=20):\n",
    "    n_samples, n_features = X.shape\n",
    "    weights = np.ones(n_samples) / n_samples  \n",
    "    models = []\n",
    "    alphas = []\n",
    "\n",
    "    # Loop to train weak classifiers\n",
    "    for estimator in range(n_estimators):\n",
    "        model = DecisionTreeClassifier(max_depth=5) \n",
    "        model.fit(X, y, sample_weight=weights) \n",
    "        \n",
    "        y_pred = model.predict(X)\n",
    "        \n",
    "        incorrect = (y_pred != y)\n",
    "        error = np.dot(weights, incorrect) / np.sum(weights)\n",
    "        \n",
    "        alpha = 0.5 * np.log((1 - error) / error) if error < 1 else 0\n",
    "        \n",
    "        models.append(model)\n",
    "        alphas.append(alpha)\n",
    "        \n",
    "        weights = weights * np.exp(-alpha * (y_pred == y)) \n",
    "        weights = weights / np.sum(weights) \n",
    "\n",
    "    return models, alphas\n",
    "\n",
    "def predict_and_accuracy(X, y, models, alphas):\n",
    "    clf_preds = np.array([model.predict(X) for model in models])\n",
    "    n_samples = X.shape[0]\n",
    "    n_classes = len(np.unique(clf_preds))\n",
    "\n",
    "    weighted_preds = np.zeros((n_classes, n_samples))\n",
    "\n",
    "    for i in range(len(models)):\n",
    "        for c in range(n_classes):\n",
    "            weighted_preds[c] += (clf_preds[i] == c) * alphas[i]\n",
    "\n",
    "    final_pred = np.argmax(weighted_preds, axis=0)\n",
    "\n",
    "    accuracy = np.mean(final_pred == y)\n",
    "    \n",
    "    return  accuracy\n",
    "\n",
    "scaler = StandardScaler()\n",
    "X_train = scaler.fit_transform(X_train)\n",
    "X_test = scaler.transform(X_test)\n",
    "\n",
    "models, alphas = fit_adaboost(X_train, y_train, n_estimators=20)\n",
    "\n",
    "acc = predict_and_accuracy(X_test, y_test, models, alphas)\n",
    "print(f\"Accuracy: {acc * 100:.4f}%\")"
   ]
  },
  {
   "cell_type": "code",
   "execution_count": 20,
   "metadata": {},
   "outputs": [
    {
     "name": "stderr",
     "output_type": "stream",
     "text": [
      "/Library/Frameworks/Python.framework/Versions/3.10/lib/python3.10/site-packages/sklearn/ensemble/_weight_boosting.py:527: FutureWarning: The SAMME.R algorithm (the default) is deprecated and will be removed in 1.6. Use the SAMME algorithm to circumvent this warning.\n",
      "  warnings.warn(\n"
     ]
    },
    {
     "name": "stdout",
     "output_type": "stream",
     "text": [
      "Accuracy with Sklearn AdaBoost: 82.93%\n"
     ]
    }
   ],
   "source": [
    "from sklearn.ensemble import AdaBoostClassifier\n",
    "\n",
    "def adaboost_sklearn(X_train, y_train, X_test, y_test, n_trees=20):    \n",
    "    clf = AdaBoostClassifier(\n",
    "        estimator=DecisionTreeClassifier(max_depth=5),  # Weak learner (stump)\n",
    "        n_estimators=n_trees,\n",
    "        random_state=42,\n",
    "        algorithm=\"SAMME.R\"\n",
    "    )\n",
    "    clf.fit(X_train, y_train)\n",
    "    y_pred = clf.predict(X_test)\n",
    "    \n",
    "    accuracy = accuracy_score(y_test, y_pred)\n",
    "    return accuracy\n",
    "\n",
    "accuracy_sklearn = adaboost_sklearn(X_train, y_train, X_test, y_test)\n",
    "print(f\"Accuracy with Sklearn AdaBoost: {accuracy_sklearn * 100:.2f}%\")"
   ]
  }
 ],
 "metadata": {
  "kernelspec": {
   "display_name": "Python 3",
   "language": "python",
   "name": "python3"
  },
  "language_info": {
   "codemirror_mode": {
    "name": "ipython",
    "version": 3
   },
   "file_extension": ".py",
   "mimetype": "text/x-python",
   "name": "python",
   "nbconvert_exporter": "python",
   "pygments_lexer": "ipython3",
   "version": "3.10.7"
  }
 },
 "nbformat": 4,
 "nbformat_minor": 2
}
