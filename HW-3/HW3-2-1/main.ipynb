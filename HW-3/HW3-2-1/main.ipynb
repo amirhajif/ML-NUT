{
 "cells": [
  {
   "cell_type": "code",
   "execution_count": 1,
   "metadata": {},
   "outputs": [],
   "source": [
    "import pandas as pd\n",
    "import numpy as np\n",
    "from sklearn.model_selection import train_test_split"
   ]
  },
  {
   "cell_type": "code",
   "execution_count": 16,
   "metadata": {},
   "outputs": [
    {
     "name": "stderr",
     "output_type": "stream",
     "text": [
      "/var/folders/ym/gjrx4mts0h3g9f_769wf3w8h0000gn/T/ipykernel_3948/497900157.py:1: ParserWarning: Skipping line 8: expected 2 fields, saw 9\n",
      "Skipping line 14: expected 2 fields, saw 7\n",
      "Skipping line 23: expected 2 fields, saw 9\n",
      "Skipping line 28: expected 2 fields, saw 3\n",
      "Skipping line 40: expected 2 fields, saw 9\n",
      "Skipping line 46: expected 2 fields, saw 8\n",
      "Skipping line 53: expected 2 fields, saw 33\n",
      "Skipping line 62: expected 2 fields, saw 7\n",
      "Skipping line 74: expected 2 fields, saw 3\n",
      "Skipping line 76: expected 2 fields, saw 3\n",
      "Skipping line 87: expected 2 fields, saw 3\n",
      "Skipping line 99: expected 2 fields, saw 23\n",
      "Skipping line 113: expected 2 fields, saw 8\n",
      "Skipping line 114: expected 2 fields, saw 8\n",
      "Skipping line 145: expected 2 fields, saw 8\n",
      "Skipping line 146: expected 2 fields, saw 31\n",
      "Skipping line 147: expected 2 fields, saw 11\n",
      "Skipping line 148: expected 2 fields, saw 11\n",
      "Skipping line 149: expected 2 fields, saw 11\n",
      "Skipping line 150: expected 2 fields, saw 11\n",
      "Skipping line 151: expected 2 fields, saw 11\n",
      "Skipping line 152: expected 2 fields, saw 26\n",
      "Skipping line 153: expected 2 fields, saw 18\n",
      "Skipping line 157: expected 2 fields, saw 19\n",
      "Skipping line 158: expected 2 fields, saw 4\n",
      "Skipping line 162: expected 2 fields, saw 32\n",
      "Skipping line 164: expected 2 fields, saw 12\n",
      "Skipping line 170: expected 2 fields, saw 6\n",
      "Skipping line 172: expected 2 fields, saw 3\n",
      "Skipping line 173: expected 2 fields, saw 3\n",
      "Skipping line 191: expected 2 fields, saw 5\n",
      "Skipping line 204: expected 2 fields, saw 3\n",
      "Skipping line 205: expected 2 fields, saw 3\n",
      "Skipping line 217: expected 2 fields, saw 5\n",
      "Skipping line 230: expected 2 fields, saw 7\n",
      "Skipping line 231: expected 2 fields, saw 3\n",
      "Skipping line 235: expected 2 fields, saw 7\n",
      "Skipping line 242: expected 2 fields, saw 54\n",
      "Skipping line 260: expected 2 fields, saw 11\n",
      "Skipping line 287: expected 2 fields, saw 4\n",
      "Skipping line 288: expected 2 fields, saw 4\n",
      "Skipping line 306: expected 2 fields, saw 3\n",
      "Skipping line 309: expected 2 fields, saw 8\n",
      "Skipping line 310: expected 2 fields, saw 11\n",
      "Skipping line 324: expected 2 fields, saw 5\n",
      "Skipping line 343: expected 2 fields, saw 3\n",
      "Skipping line 359: expected 2 fields, saw 3\n",
      "Skipping line 372: expected 2 fields, saw 4\n",
      "Skipping line 381: expected 2 fields, saw 5\n",
      "Skipping line 390: expected 2 fields, saw 78\n",
      "Skipping line 393: expected 2 fields, saw 7\n",
      "Skipping line 396: expected 2 fields, saw 7\n",
      "Skipping line 398: expected 2 fields, saw 3\n",
      "Skipping line 404: expected 2 fields, saw 3\n",
      "Skipping line 414: expected 2 fields, saw 4\n",
      "Skipping line 418: expected 2 fields, saw 3\n",
      "Skipping line 422: expected 2 fields, saw 3\n",
      "Skipping line 511: expected 2 fields, saw 4\n",
      "Skipping line 517: expected 2 fields, saw 3\n",
      "Skipping line 522: expected 2 fields, saw 3\n",
      "Skipping line 526: expected 2 fields, saw 3\n",
      "Skipping line 529: expected 2 fields, saw 4\n",
      "Skipping line 530: expected 2 fields, saw 3\n",
      "Skipping line 541: expected 2 fields, saw 18\n",
      "Skipping line 551: expected 2 fields, saw 4\n",
      "Skipping line 554: expected 2 fields, saw 3\n",
      "Skipping line 565: expected 2 fields, saw 5\n",
      "Skipping line 568: expected 2 fields, saw 3\n",
      "Skipping line 572: expected 2 fields, saw 4\n",
      "Skipping line 588: expected 2 fields, saw 4\n",
      "Skipping line 593: expected 2 fields, saw 8\n",
      "Skipping line 607: expected 2 fields, saw 11\n",
      "Skipping line 610: expected 2 fields, saw 3\n",
      "Skipping line 611: expected 2 fields, saw 10\n",
      "Skipping line 617: expected 2 fields, saw 10\n",
      "Skipping line 619: expected 2 fields, saw 3\n",
      "Skipping line 620: expected 2 fields, saw 3\n",
      "Skipping line 621: expected 2 fields, saw 7\n",
      "Skipping line 622: expected 2 fields, saw 20\n",
      "Skipping line 623: expected 2 fields, saw 3\n",
      "Skipping line 626: expected 2 fields, saw 5\n",
      "Skipping line 628: expected 2 fields, saw 7\n",
      "Skipping line 633: expected 2 fields, saw 6\n",
      "Skipping line 635: expected 2 fields, saw 6\n",
      "Skipping line 641: expected 2 fields, saw 4\n",
      "Skipping line 643: expected 2 fields, saw 6\n",
      "Skipping line 653: expected 2 fields, saw 5\n",
      "Skipping line 658: expected 2 fields, saw 3\n",
      "Skipping line 659: expected 2 fields, saw 6\n",
      "Skipping line 662: expected 2 fields, saw 3\n",
      "Skipping line 666: expected 2 fields, saw 3\n",
      "Skipping line 669: expected 2 fields, saw 5\n",
      "Skipping line 672: expected 2 fields, saw 3\n",
      "Skipping line 676: expected 2 fields, saw 3\n",
      "Skipping line 677: expected 2 fields, saw 4\n",
      "Skipping line 678: expected 2 fields, saw 5\n",
      "Skipping line 679: expected 2 fields, saw 10\n",
      "Skipping line 680: expected 2 fields, saw 4\n",
      "Skipping line 681: expected 2 fields, saw 11\n",
      "Skipping line 688: expected 2 fields, saw 7\n",
      "Skipping line 690: expected 2 fields, saw 5\n",
      "Skipping line 691: expected 2 fields, saw 5\n",
      "Skipping line 693: expected 2 fields, saw 6\n",
      "Skipping line 695: expected 2 fields, saw 7\n",
      "Skipping line 696: expected 2 fields, saw 10\n",
      "Skipping line 697: expected 2 fields, saw 9\n",
      "Skipping line 698: expected 2 fields, saw 7\n",
      "Skipping line 699: expected 2 fields, saw 16\n",
      "Skipping line 700: expected 2 fields, saw 13\n",
      "Skipping line 726: expected 2 fields, saw 12\n",
      "Skipping line 733: expected 2 fields, saw 5\n",
      "Skipping line 737: expected 2 fields, saw 3\n",
      "Skipping line 738: expected 2 fields, saw 7\n",
      "Skipping line 751: expected 2 fields, saw 144\n",
      "Skipping line 752: expected 2 fields, saw 4\n",
      "Skipping line 759: expected 2 fields, saw 4\n",
      "Skipping line 769: expected 2 fields, saw 3\n",
      "Skipping line 775: expected 2 fields, saw 3\n",
      "Skipping line 778: expected 2 fields, saw 3\n",
      "Skipping line 784: expected 2 fields, saw 3\n",
      "Skipping line 789: expected 2 fields, saw 3\n",
      "Skipping line 795: expected 2 fields, saw 6\n",
      "Skipping line 805: expected 2 fields, saw 5\n",
      "Skipping line 819: expected 2 fields, saw 7\n",
      "Skipping line 827: expected 2 fields, saw 3\n",
      "\n",
      "  df=pd.read_csv(\"trspam.csv\",on_bad_lines='warn')\n"
     ]
    }
   ],
   "source": [
    "df=pd.read_csv(\"trspam.csv\",on_bad_lines='warn')\n",
    "\n",
    "df.dropna(inplace=True)\n"
   ]
  },
  {
   "cell_type": "code",
   "execution_count": 3,
   "metadata": {},
   "outputs": [],
   "source": [
    "import nltk\n",
    "from nltk.corpus import stopwords\n",
    "from sklearn.feature_extraction.text import CountVectorizer\n",
    "from sklearn.model_selection import train_test_split"
   ]
  },
  {
   "cell_type": "code",
   "execution_count": 4,
   "metadata": {},
   "outputs": [
    {
     "name": "stderr",
     "output_type": "stream",
     "text": [
      "[nltk_data] Downloading package stopwords to\n",
      "[nltk_data]     /Users/amirhajitabar/nltk_data...\n",
      "[nltk_data]   Package stopwords is already up-to-date!\n"
     ]
    },
    {
     "data": {
      "text/plain": [
       "True"
      ]
     },
     "execution_count": 4,
     "metadata": {},
     "output_type": "execute_result"
    }
   ],
   "source": [
    "import ssl\n",
    "ssl._create_default_https_context = ssl._create_unverified_context\n",
    "nltk.download('stopwords')\n"
   ]
  },
  {
   "cell_type": "code",
   "execution_count": 17,
   "metadata": {},
   "outputs": [],
   "source": [
    "stop_words = set(stopwords.words('turkish'))\n",
    "\n",
    "def preprocess_text(text):\n",
    "    words = text.lower().split()\n",
    "    words = [word for word in words if word not in stop_words]\n",
    "    return ' '.join(words)\n",
    "\n",
    "df['cleaned_text'] = df['Text'].apply(preprocess_text)\n",
    "\n",
    "vectorizer = CountVectorizer()  # Adjust max_features as needed\n",
    "X = vectorizer.fit_transform(df['cleaned_text']).toarray()\n",
    "\n",
    "y = df['Classification'].values\n",
    "\n",
    "train_X, test_X, train_y, test_y = train_test_split(X, y, test_size=0.3, random_state=42)"
   ]
  },
  {
   "cell_type": "code",
   "execution_count": 18,
   "metadata": {},
   "outputs": [
    {
     "name": "stdout",
     "output_type": "stream",
     "text": [
      "Training Accuracy: 91.84%\n",
      "Test Accuracy: 85.71%\n",
      "support vectors coun:293\n"
     ]
    }
   ],
   "source": [
    "from sklearn.svm import SVC\n",
    "from sklearn.metrics import accuracy_score\n",
    "\n",
    "svm_model = SVC(kernel='linear', C=0.001)\n",
    "\n",
    "svm_model.fit(train_X, train_y)\n",
    "\n",
    "train_predictions = svm_model.predict(train_X)\n",
    "test_predictions = svm_model.predict(test_X)\n",
    "\n",
    "train_accuracy = accuracy_score(train_y, train_predictions)\n",
    "test_accuracy = accuracy_score(test_y, test_predictions)\n",
    "\n",
    "print(f\"Training Accuracy: {train_accuracy * 100:.2f}%\")\n",
    "print(f\"Test Accuracy: {test_accuracy * 100:.2f}%\")\n",
    "print(f\"support vectors coun:{len(svm_model.support_vectors_)}\")"
   ]
  },
  {
   "cell_type": "code",
   "execution_count": 19,
   "metadata": {},
   "outputs": [
    {
     "name": "stdout",
     "output_type": "stream",
     "text": [
      "Training Accuracy in degree=1 coef0=-1: 79.80%\n",
      "Test Accuracy degree=1 coef0=-1: 75.71%\n",
      "support vectors count degree=1 coef0=-1:354\n",
      "--------------------------------------\n",
      "Training Accuracy in degree=1 coef0=0: 79.80%\n",
      "Test Accuracy degree=1 coef0=0: 75.71%\n",
      "support vectors count degree=1 coef0=0:354\n",
      "--------------------------------------\n",
      "Training Accuracy in degree=1 coef0=1: 79.80%\n",
      "Test Accuracy degree=1 coef0=1: 75.71%\n",
      "support vectors count degree=1 coef0=1:354\n",
      "--------------------------------------\n",
      "Training Accuracy in degree=2 coef0=-1: 43.47%\n",
      "Test Accuracy degree=2 coef0=-1: 40.48%\n",
      "support vectors count degree=2 coef0=-1:314\n",
      "--------------------------------------\n",
      "Training Accuracy in degree=2 coef0=0: 70.61%\n",
      "Test Accuracy degree=2 coef0=0: 66.67%\n",
      "support vectors count degree=2 coef0=0:400\n",
      "--------------------------------------\n",
      "Training Accuracy in degree=2 coef0=1: 88.16%\n",
      "Test Accuracy degree=2 coef0=1: 80.00%\n",
      "support vectors count degree=2 coef0=1:328\n",
      "--------------------------------------\n",
      "Training Accuracy in degree=3 coef0=-1: 87.96%\n",
      "Test Accuracy degree=3 coef0=-1: 80.00%\n",
      "support vectors count degree=3 coef0=-1:281\n",
      "--------------------------------------\n",
      "Training Accuracy in degree=3 coef0=0: 69.80%\n",
      "Test Accuracy degree=3 coef0=0: 64.76%\n",
      "support vectors count degree=3 coef0=0:422\n",
      "--------------------------------------\n",
      "Training Accuracy in degree=3 coef0=1: 91.22%\n",
      "Test Accuracy degree=3 coef0=1: 82.38%\n",
      "support vectors count degree=3 coef0=1:316\n",
      "--------------------------------------\n"
     ]
    }
   ],
   "source": [
    "degrees=[1, 2, 3]\n",
    "coef0s=[-1, 0, 1]\n",
    "for degree in degrees:\n",
    "    for coef0 in coef0s:\n",
    "        svm_model = SVC(kernel='poly', C=1,degree=degree,coef0=coef0)\n",
    "\n",
    "        svm_model.fit(train_X, train_y)\n",
    "\n",
    "        train_predictions = svm_model.predict(train_X)\n",
    "        test_predictions = svm_model.predict(test_X)\n",
    "\n",
    "        train_accuracy = accuracy_score(train_y, train_predictions)\n",
    "        test_accuracy = accuracy_score(test_y, test_predictions)\n",
    "\n",
    "        print(f\"Training Accuracy in degree={degree} coef0={coef0}: {train_accuracy * 100:.2f}%\")\n",
    "        print(f\"Test Accuracy degree={degree} coef0={coef0}: {test_accuracy * 100:.2f}%\")\n",
    "        print(f\"support vectors count degree={degree} coef0={coef0}:{len(svm_model.support_vectors_)}\")\n",
    "        print(\"--------------------------------------\")"
   ]
  },
  {
   "cell_type": "code",
   "execution_count": 21,
   "metadata": {},
   "outputs": [
    {
     "name": "stdout",
     "output_type": "stream",
     "text": [
      "40720\n",
      "Training Accuracy for gamma=6.030932411099231e-10: 61.43%\n",
      "Test Accuracy for gamma=6.030932411099231e-10: 54.76%\n",
      "support vectors coun for gamma=6.030932411099231e-10:378\n",
      "Training Accuracy for gamma=2.455795677799607e-05: 68.98%\n",
      "Test Accuracy for gamma=2.455795677799607e-05: 66.19%\n",
      "support vectors coun for gamma=2.455795677799607e-05:392\n",
      "Training Accuracy for gamma=1: 100.00%\n",
      "Test Accuracy for gamma=1: 69.05%\n",
      "support vectors coun for gamma=1:468\n"
     ]
    }
   ],
   "source": [
    "k=train_X.shape[1]\n",
    "print(k)\n",
    "gammas=[1/k**2,1/k,1]\n",
    "for gamma in gammas:\n",
    "    svm_model = SVC(kernel='rbf', C=1,gamma=gamma)\n",
    "\n",
    "    svm_model.fit(train_X, train_y)\n",
    "\n",
    "    train_predictions = svm_model.predict(train_X)\n",
    "    test_predictions = svm_model.predict(test_X)\n",
    "\n",
    "    train_accuracy = accuracy_score(train_y, train_predictions)\n",
    "    test_accuracy = accuracy_score(test_y, test_predictions)\n",
    "\n",
    "    print(f\"Training Accuracy for gamma={gamma}: {train_accuracy * 100:.2f}%\")\n",
    "    print(f\"Test Accuracy for gamma={gamma}: {test_accuracy * 100:.2f}%\")\n",
    "    print(f\"support vectors coun for gamma={gamma}:{len(svm_model.support_vectors_)}\")"
   ]
  }
 ],
 "metadata": {
  "kernelspec": {
   "display_name": "Python 3",
   "language": "python",
   "name": "python3"
  },
  "language_info": {
   "codemirror_mode": {
    "name": "ipython",
    "version": 3
   },
   "file_extension": ".py",
   "mimetype": "text/x-python",
   "name": "python",
   "nbconvert_exporter": "python",
   "pygments_lexer": "ipython3",
   "version": "3.10.7"
  }
 },
 "nbformat": 4,
 "nbformat_minor": 2
}
