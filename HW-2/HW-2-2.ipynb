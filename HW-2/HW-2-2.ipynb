{
 "cells": [
  {
   "cell_type": "code",
   "execution_count": 8,
   "metadata": {},
   "outputs": [],
   "source": [
    "import pandas as pd\n",
    "import numpy as np\n",
    "from sklearn.model_selection import train_test_split"
   ]
  },
  {
   "cell_type": "code",
   "execution_count": 9,
   "metadata": {},
   "outputs": [],
   "source": [
    "def calculate_entropy(labels):\n",
    "    label_counts = labels.value_counts()\n",
    "    probabilities = label_counts / len(labels)\n",
    "    entropy = -sum(probabilities * np.log2(probabilities))\n",
    "    return entropy"
   ]
  },
  {
   "cell_type": "code",
   "execution_count": 10,
   "metadata": {},
   "outputs": [],
   "source": [
    "def calculate_information_gain(data, feature, target):\n",
    "    total_entropy = calculate_entropy(data[target])\n",
    "    values, counts = np.unique(data[feature], return_counts=True)\n",
    "    weighted_entropy = sum((counts[i] / sum(counts)) * calculate_entropy(data[data[feature] == values[i]][target]) for i in range(len(values)))\n",
    "    information_gain = total_entropy - weighted_entropy\n",
    "    return information_gain"
   ]
  },
  {
   "cell_type": "code",
   "execution_count": 11,
   "metadata": {},
   "outputs": [],
   "source": [
    "def find_best_feature(data, features, target):\n",
    "    information_gains = {feature: calculate_information_gain(data, feature, target) for feature in features}\n",
    "    best_feature = max(information_gains, key=information_gains.get)\n",
    "    return best_feature"
   ]
  },
  {
   "cell_type": "code",
   "execution_count": 12,
   "metadata": {},
   "outputs": [],
   "source": [
    "def id3(data, features, target, tree=None):\n",
    "    labels = data[target]\n",
    "\n",
    "    if len(np.unique(labels)) == 1:\n",
    "        return labels.iloc[0]\n",
    "\n",
    "    if len(features) == 0:\n",
    "        return labels.mode()[0]\n",
    "\n",
    "    best_feature = find_best_feature(data, features, target)\n",
    "    if tree is None:\n",
    "        tree = {}\n",
    "    tree[best_feature] = {}\n",
    "\n",
    "    remaining_features = [f for f in features if f != best_feature]\n",
    "    for value in np.unique(data[best_feature]):\n",
    "        subset = data[data[best_feature] == value]\n",
    "        subtree = id3(subset, remaining_features, target)\n",
    "        tree[best_feature][value] = subtree\n",
    "\n",
    "    return tree"
   ]
  },
  {
   "cell_type": "code",
   "execution_count": 13,
   "metadata": {},
   "outputs": [],
   "source": [
    "def predict(tree, sample):\n",
    "    if not isinstance(tree, dict):\n",
    "        return tree \n",
    "\n",
    "    feature = list(tree.keys())[0]\n",
    "    value = sample.get(feature)\n",
    "    subtree = tree[feature].get(value)\n",
    "    if subtree is None:\n",
    "        return None  \n",
    "    return predict(subtree, sample)"
   ]
  },
  {
   "cell_type": "code",
   "execution_count": 14,
   "metadata": {},
   "outputs": [],
   "source": [
    "def print_tree(tree, indent=\"\"):\n",
    "    if not isinstance(tree, dict):\n",
    "        print(indent + \"->\", tree)\n",
    "        return\n",
    "    for feature, branches in tree.items():\n",
    "        for value, subtree in branches.items():\n",
    "            print(indent + f\"{feature} = {value}\")\n",
    "            print_tree(subtree, indent + \"    \")"
   ]
  },
  {
   "cell_type": "code",
   "execution_count": 15,
   "metadata": {},
   "outputs": [
    {
     "name": "stdout",
     "output_type": "stream",
     "text": [
      "Decision Tree:\n",
      "Outlook = Overcast\n",
      "    -> Yes\n",
      "Outlook = Rain\n",
      "    Wind = Strong\n",
      "        -> No\n",
      "    Wind = Weak\n",
      "        -> Yes\n",
      "Outlook = Sunny\n",
      "    Humidity = High\n",
      "        -> No\n",
      "    Humidity = Normal\n",
      "        -> Yes\n"
     ]
    }
   ],
   "source": [
    "data = pd.read_csv('PlayTennis.csv')\n",
    "train_data, test_data = train_test_split(data, test_size=0.2, random_state=42)\n",
    "features = [col for col in train_data.columns if col != 'Play Tennis']\n",
    "tree = id3(train_data, features, 'Play Tennis')\n",
    "print(\"Decision Tree:\")\n",
    "print_tree(tree)"
   ]
  },
  {
   "cell_type": "code",
   "execution_count": 16,
   "metadata": {},
   "outputs": [
    {
     "name": "stdout",
     "output_type": "stream",
     "text": [
      "Accuracy on training data: 1.0\n"
     ]
    }
   ],
   "source": [
    "def accuracy(tree, data, target):\n",
    "    correct_predictions = 0\n",
    "    for _, row in data.iterrows():\n",
    "        sample = row.drop(target).to_dict()  \n",
    "        actual_label = row[target]\n",
    "        predicted_label = predict(tree, sample)\n",
    "        if predicted_label == actual_label:\n",
    "            correct_predictions += 1\n",
    "    accuracy = correct_predictions / len(data)\n",
    "    return accuracy\n",
    "\n",
    "accuracy = accuracy(tree, test_data,'Play Tennis')\n",
    "print(\"Accuracy on training data:\", accuracy)"
   ]
  }
 ],
 "metadata": {
  "kernelspec": {
   "display_name": "Python 3",
   "language": "python",
   "name": "python3"
  },
  "language_info": {
   "codemirror_mode": {
    "name": "ipython",
    "version": 3
   },
   "file_extension": ".py",
   "mimetype": "text/x-python",
   "name": "python",
   "nbconvert_exporter": "python",
   "pygments_lexer": "ipython3",
   "version": "3.10.7"
  }
 },
 "nbformat": 4,
 "nbformat_minor": 2
}
